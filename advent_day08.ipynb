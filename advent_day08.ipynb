{
 "cells": [
  {
   "cell_type": "code",
   "execution_count": 62,
   "metadata": {},
   "outputs": [],
   "source": [
    "with open('input_08.txt') as input_file:\n",
    "  tree_grid = [[int(x) for x in line.strip()] for line in input_file.readlines()]"
   ]
  },
  {
   "cell_type": "code",
   "execution_count": 69,
   "metadata": {},
   "outputs": [
    {
     "name": "stdout",
     "output_type": "stream",
     "text": [
      "1560\n"
     ]
    }
   ],
   "source": [
    "visible_trees = {}\n",
    "\n",
    "for row in range(len(tree_grid)):\n",
    "  last_height_lr = -1\n",
    "  last_height_rl = -1\n",
    "  for col in range(len(tree_grid[row])):\n",
    "    if tree_grid[row][col] > last_height_lr:\n",
    "      last_height_lr = tree_grid[row][col]\n",
    "      visible_trees[(row, col)] = last_height_lr\n",
    "\n",
    "    if tree_grid[row][len(tree_grid[row])-col-1] > last_height_rl:\n",
    "      last_height_rl = tree_grid[row][len(tree_grid[row])-col-1]\n",
    "      visible_trees[(row, len(tree_grid[row]) - col - 1)] = last_height_rl\n",
    "\n",
    "for col in range(len(tree_grid[0])):\n",
    "  last_height_ud = -1\n",
    "  last_height_du = -1\n",
    "  for row in range(len(tree_grid)):\n",
    "    if tree_grid[row][col] > last_height_ud:\n",
    "      last_height_ud = tree_grid[row][col]\n",
    "      visible_trees[(row, col)] = last_height_ud\n",
    "\n",
    "    if tree_grid[len(tree_grid) - row - 1][col] > last_height_du:\n",
    "      last_height_du = tree_grid[len(tree_grid) - row - 1][col]\n",
    "      visible_trees[(len(tree_grid) - row - 1, col)] = last_height_du\n",
    "print(len(visible_trees))\n",
    "\n",
    "\n"
   ]
  },
  {
   "cell_type": "code",
   "execution_count": 68,
   "metadata": {},
   "outputs": [
    {
     "name": "stdout",
     "output_type": "stream",
     "text": [
      "252000\n"
     ]
    }
   ],
   "source": [
    "scores = []\n",
    "for i in range(1, len(tree_grid) - 1):\n",
    "  for j in range(1, len(tree_grid[i]) - 1):\n",
    "    tree_height = tree_grid[i][j]\n",
    "    left_c = -1\n",
    "    left = 1\n",
    "    while j + left_c > 0 and tree_grid[i][j+left_c] < tree_height:\n",
    "      left_c -= 1\n",
    "      left += 1\n",
    "    right_c = 1\n",
    "    right = 1\n",
    "    while j + right_c < len(tree_grid[i]) - 1 and tree_grid[i][j + right_c] < tree_height:\n",
    "      right_c += 1\n",
    "      right += 1\n",
    "    up_c = -1\n",
    "    up = 1\n",
    "    while i + up_c > 0 and tree_grid[i + up_c][j] < tree_height:\n",
    "      up_c -= 1\n",
    "      up += 1\n",
    "    down_c = 1\n",
    "    down = 1\n",
    "    while i + down_c < len(tree_grid) - 1 and tree_grid[i + down_c][j] < tree_height:\n",
    "      down_c += 1\n",
    "      down += 1\n",
    "    scores.append(left*right*up*down)\n",
    "print(max(scores))\n",
    "    "
   ]
  }
 ],
 "metadata": {
  "kernelspec": {
   "display_name": "Python 3.9.13 64-bit (microsoft store)",
   "language": "python",
   "name": "python3"
  },
  "language_info": {
   "codemirror_mode": {
    "name": "ipython",
    "version": 3
   },
   "file_extension": ".py",
   "mimetype": "text/x-python",
   "name": "python",
   "nbconvert_exporter": "python",
   "pygments_lexer": "ipython3",
   "version": "3.9.13"
  },
  "orig_nbformat": 4,
  "vscode": {
   "interpreter": {
    "hash": "4733f1e2fec4da2b24c42b1d7e5dbec68ebf77764dd84a05f3817577f7b97b24"
   }
  }
 },
 "nbformat": 4,
 "nbformat_minor": 2
}
