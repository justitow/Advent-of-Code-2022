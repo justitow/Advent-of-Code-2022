{
 "cells": [
  {
   "cell_type": "code",
   "execution_count": 125,
   "metadata": {},
   "outputs": [],
   "source": [
    "with open('input_04.txt') as input_text:\n",
    "  pairs = [[ [int(x) for x in subsection[0].split('-')], [int(x) for x in subsection[1].split('-')]] for subsection in [line.split(',') for line in input_text.read().split('\\n')]]"
   ]
  },
  {
   "cell_type": "code",
   "execution_count": 126,
   "metadata": {},
   "outputs": [
    {
     "name": "stdout",
     "output_type": "stream",
     "text": [
      "515\n"
     ]
    }
   ],
   "source": [
    "contained_pairs = 0\n",
    "for pair in pairs:\n",
    "  if pair[0][0] >= pair[1][0] and pair[0][1] <= pair[1][1]:\n",
    "    contained_pairs += 1\n",
    "  elif pair[1][0] >= pair[0][0] and pair[1][1] <= pair[0][1]:\n",
    "    contained_pairs += 1\n",
    "print(contained_pairs)"
   ]
  },
  {
   "cell_type": "code",
   "execution_count": 131,
   "metadata": {},
   "outputs": [
    {
     "name": "stdout",
     "output_type": "stream",
     "text": [
      "883\n"
     ]
    }
   ],
   "source": [
    "\n",
    "overlaps = 0\n",
    "for pair in pairs:\n",
    "  temp = pair[0] + pair[1]\n",
    "  temp.sort()\n",
    "  if temp[:2] not in pair:\n",
    "    overlaps += 1\n",
    "  else:\n",
    "    if pair[0][0] in pair[1] or pair[0][1] in pair[1]:\n",
    "      overlaps += 1\n",
    "print(overlaps)"
   ]
  },
  {
   "cell_type": "code",
   "execution_count": null,
   "metadata": {},
   "outputs": [],
   "source": []
  }
 ],
 "metadata": {
  "kernelspec": {
   "display_name": "Python 3.9.13 64-bit (microsoft store)",
   "language": "python",
   "name": "python3"
  },
  "language_info": {
   "codemirror_mode": {
    "name": "ipython",
    "version": 3
   },
   "file_extension": ".py",
   "mimetype": "text/x-python",
   "name": "python",
   "nbconvert_exporter": "python",
   "pygments_lexer": "ipython3",
   "version": "3.9.13"
  },
  "orig_nbformat": 4,
  "vscode": {
   "interpreter": {
    "hash": "4733f1e2fec4da2b24c42b1d7e5dbec68ebf77764dd84a05f3817577f7b97b24"
   }
  }
 },
 "nbformat": 4,
 "nbformat_minor": 2
}
