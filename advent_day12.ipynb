{
 "cells": [
  {
   "cell_type": "code",
   "execution_count": 52,
   "metadata": {},
   "outputs": [
    {
     "data": {
      "text/plain": [
       "(['aabqponm', 'abcryxxl', 'accszzxk', 'acctuvwj', 'abdefghi'], (0, 0), (5, 2))"
      ]
     },
     "execution_count": 52,
     "metadata": {},
     "output_type": "execute_result"
    }
   ],
   "source": [
    "from functools import cache\n",
    "\n",
    "with open('input_12.txt') as input_file:\n",
    "  heightmap = [line.strip() for line in input_file.readlines()]\n",
    "\n",
    "i = 0\n",
    "while heightmap[i%len(heightmap)][i//len(heightmap)] != 'S':\n",
    "  i += 1\n",
    "start = (i//len(heightmap), i%len(heightmap))\n",
    "i = 0\n",
    "while heightmap[i%len(heightmap)][i//len(heightmap)] != 'E':\n",
    "  i += 1\n",
    "end = (i//len(heightmap), i%len(heightmap))\n",
    "\n",
    "heightmap[start[1]] = heightmap[start[1]].replace('S', 'a')\n",
    "heightmap[end[1]] = heightmap[end[1]].replace('E', 'z')\n",
    "heightmap, start, end\n",
    "\n"
   ]
  },
  {
   "cell_type": "code",
   "execution_count": 70,
   "metadata": {},
   "outputs": [
    {
     "name": "stdout",
     "output_type": "stream",
     "text": [
      "(5, 2) []\n",
      "(4, 2) []\n",
      "(3, 2) []\n",
      "(2, 2) []\n",
      "(1, 2) []\n",
      "(0, 2) [inf]\n",
      "(0, 1) []\n",
      "(1, 1) [inf]\n",
      "(2, 1) [inf]\n",
      "(3, 1) [inf]\n",
      "(4, 1) [inf]\n",
      "(5, 1) [inf]\n",
      "(6, 1) [inf]\n",
      "(7, 1) [inf]\n",
      "(7, 0) []\n",
      "(6, 0) []\n",
      "(5, 0) []\n",
      "(4, 0) []\n",
      "(3, 0) []\n",
      "(2, 0) []\n",
      "(1, 0) [inf, 1]\n",
      "(2, 0) [inf, 2]\n",
      "(3, 0) [inf, 3]\n",
      "(4, 0) [inf, 4]\n",
      "(5, 0) [inf, 5]\n",
      "(6, 0) [inf, 6]\n",
      "(7, 0) [inf, 7]\n",
      "(7, 1) [8]\n",
      "(6, 1) [9]\n",
      "(6, 0) [10]\n",
      "(6, 1) [11]\n",
      "(5, 1) [12]\n",
      "(5, 0) [13]\n",
      "(5, 1) [14]\n",
      "(4, 1) [15]\n",
      "(4, 0) [16]\n",
      "(4, 1) [17]\n",
      "(3, 1) [18]\n",
      "(3, 0) [19]\n",
      "(3, 1) [20]\n",
      "(2, 1) [21]\n",
      "(2, 0) [22]\n",
      "(2, 1) [23]\n",
      "(1, 1) [24]\n",
      "(1, 0) [25]\n",
      "(1, 1) [26]\n",
      "(0, 1) [inf, 1, 27]\n",
      "(0, 2) [2]\n",
      "(0, 3) []\n",
      "(1, 3) [inf]\n",
      "(2, 3) [inf]\n",
      "(3, 3) [inf]\n",
      "(4, 3) [inf]\n",
      "(5, 3) [inf]\n",
      "(6, 3) [inf]\n",
      "(7, 3) [inf]\n",
      "(6, 3) [inf]\n",
      "(5, 3) [inf]\n",
      "(4, 3) [inf]\n",
      "(3, 3) [inf]\n",
      "(2, 3) [inf]\n",
      "(1, 3) [inf]\n",
      "(0, 3) [3, inf]\n",
      "(0, 4) []\n",
      "(1, 4) [inf]\n",
      "(2, 4) [inf]\n",
      "(3, 4) [inf]\n",
      "(4, 4) [inf]\n",
      "(5, 4) [inf]\n",
      "(6, 4) [inf]\n",
      "(7, 4) [inf]\n",
      "(6, 4) [inf]\n",
      "(5, 4) [inf]\n",
      "(4, 4) [inf]\n",
      "(3, 4) [inf]\n",
      "(2, 4) [inf]\n",
      "(1, 4) [inf]\n",
      "(0, 4) [4, inf]\n",
      "(0, 3) [5]\n",
      "(0, 2) [6]\n",
      "(1, 2) [inf, 7]\n",
      "(1, 1) [8]\n",
      "(1, 2) [9]\n",
      "(1, 3) [10]\n",
      "(1, 4) [11]\n",
      "(1, 3) [12]\n",
      "(1, 2) [13]\n",
      "(2, 2) [inf, 14]\n",
      "(2, 1) [15]\n",
      "(2, 2) [16]\n",
      "(2, 3) [17]\n",
      "(2, 4) [18]\n",
      "(2, 3) [19]\n",
      "(2, 2) [20]\n",
      "(3, 2) [inf, 21]\n",
      "(3, 1) [22]\n",
      "(3, 2) [23]\n",
      "(3, 3) [24]\n",
      "(3, 4) [25]\n",
      "(3, 3) [26]\n",
      "(3, 2) [27]\n",
      "(4, 2) [inf, 28]\n",
      "(4, 1) [29]\n",
      "(4, 2) [30]\n",
      "(4, 3) [31]\n",
      "(4, 4) [32]\n",
      "(4, 3) [33]\n",
      "(4, 2) [34]\n",
      "(5, 2) [35]\n",
      "(6, 2) [36]\n",
      "(7, 2) [37]\n",
      "(7, 1) [38]\n",
      "(7, 2) [39]\n",
      "(7, 3) [40]\n",
      "(7, 4) [41]\n",
      "(7, 3) [42]\n",
      "(7, 2) [43]\n",
      "(6, 2) [44]\n",
      "(6, 1) [45]\n",
      "(6, 2) [46]\n",
      "(6, 3) [47]\n",
      "(6, 4) [48]\n",
      "(6, 3) [49]\n",
      "(6, 2) [50]\n",
      "(5, 2) [51]\n",
      "(5, 1) [52]\n",
      "(5, 2) [53]\n",
      "(5, 3) [54]\n",
      "(5, 4) [55]\n",
      "(5, 3) [56]\n",
      "(5, 2) [57]\n"
     ]
    },
    {
     "data": {
      "text/plain": [
       "57"
      ]
     },
     "execution_count": 70,
     "metadata": {},
     "output_type": "execute_result"
    }
   ],
   "source": [
    "looked_at = set()\n",
    "\n",
    "@cache\n",
    "def distance_to_bottom(current_pos):\n",
    "  directions = [[0, 1], [0, -1], [1, 0], [-1, 0]]\n",
    "  if current_pos == (0, 0):\n",
    "    return 0\n",
    "  distances = []\n",
    "  for direction in directions:\n",
    "    next_x = current_pos[0] + direction[0]\n",
    "    next_y = current_pos[1] + direction[1]\n",
    "    if 0 <= next_y < len(heightmap) and 0 <= next_x < len(heightmap[next_y]):\n",
    "      if (current_pos, (next_x, next_y)) not in looked_at:\n",
    "        looked_at.add((current_pos, (next_x, next_y)))\n",
    "        distances.append(distance_to_bottom((next_x, next_y)) + 1)\n",
    "  print(current_pos, distances)\n",
    "  if len(distances) == 0:\n",
    "    return float('inf')\n",
    "  else:\n",
    "    return min(distances)\n",
    "distance_to_bottom(end)\n"
   ]
  },
  {
   "cell_type": "code",
   "execution_count": 63,
   "metadata": {},
   "outputs": [
    {
     "data": {
      "text/plain": [
       "['aabqponm', 'abcryxxl', 'accszzxk', 'acctuvwj', 'abdefghi']"
      ]
     },
     "execution_count": 63,
     "metadata": {},
     "output_type": "execute_result"
    }
   ],
   "source": [
    "heightmap"
   ]
  },
  {
   "cell_type": "code",
   "execution_count": 50,
   "metadata": {},
   "outputs": [
    {
     "data": {
      "text/plain": [
       "{((0, 0), (0, 1)),\n",
       " ((0, 0), (1, 0)),\n",
       " ((0, 1), (0, 0)),\n",
       " ((0, 1), (0, 2)),\n",
       " ((0, 1), (1, 1)),\n",
       " ((0, 2), (0, 1)),\n",
       " ((0, 2), (0, 3)),\n",
       " ((0, 3), (0, 2)),\n",
       " ((0, 3), (0, 4)),\n",
       " ((0, 4), (0, 3)),\n",
       " ((0, 4), (1, 4)),\n",
       " ((1, 0), (0, 0)),\n",
       " ((1, 0), (1, 1)),\n",
       " ((1, 0), (2, 0)),\n",
       " ((1, 1), (0, 1)),\n",
       " ((1, 1), (1, 0)),\n",
       " ((1, 1), (1, 2)),\n",
       " ((1, 1), (2, 1)),\n",
       " ((1, 2), (1, 1)),\n",
       " ((1, 2), (1, 3)),\n",
       " ((1, 2), (2, 2)),\n",
       " ((1, 3), (1, 2)),\n",
       " ((1, 3), (1, 4)),\n",
       " ((1, 3), (2, 3)),\n",
       " ((1, 4), (0, 4)),\n",
       " ((1, 4), (1, 3)),\n",
       " ((2, 0), (1, 0)),\n",
       " ((2, 0), (2, 1)),\n",
       " ((2, 1), (1, 1)),\n",
       " ((2, 1), (2, 0)),\n",
       " ((2, 1), (2, 2)),\n",
       " ((2, 2), (1, 2)),\n",
       " ((2, 2), (2, 1)),\n",
       " ((2, 2), (2, 3)),\n",
       " ((2, 3), (1, 3)),\n",
       " ((2, 3), (2, 2)),\n",
       " ((2, 3), (2, 4)),\n",
       " ((2, 4), (2, 3)),\n",
       " ((2, 4), (3, 4)),\n",
       " ((3, 4), (2, 4)),\n",
       " ((3, 4), (4, 4)),\n",
       " ((4, 4), (3, 4))}"
      ]
     },
     "execution_count": 50,
     "metadata": {},
     "output_type": "execute_result"
    }
   ],
   "source": [
    "looked_at"
   ]
  },
  {
   "cell_type": "code",
   "execution_count": null,
   "metadata": {},
   "outputs": [],
   "source": []
  }
 ],
 "metadata": {
  "kernelspec": {
   "display_name": "Python 3",
   "language": "python",
   "name": "python3"
  },
  "language_info": {
   "codemirror_mode": {
    "name": "ipython",
    "version": 3
   },
   "file_extension": ".py",
   "mimetype": "text/x-python",
   "name": "python",
   "nbconvert_exporter": "python",
   "pygments_lexer": "ipython3",
   "version": "3.10.8 (tags/v3.10.8:aaaf517, Oct 11 2022, 16:50:30) [MSC v.1933 64 bit (AMD64)]"
  },
  "orig_nbformat": 4,
  "vscode": {
   "interpreter": {
    "hash": "369f2c481f4da34e4445cda3fffd2e751bd1c4d706f27375911949ba6bb62e1c"
   }
  }
 },
 "nbformat": 4,
 "nbformat_minor": 2
}
