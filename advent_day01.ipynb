{
 "cells": [
  {
   "cell_type": "code",
   "execution_count": 5,
   "metadata": {},
   "outputs": [
    {
     "name": "stdout",
     "output_type": "stream",
     "text": [
      "73211\n"
     ]
    }
   ],
   "source": [
    "import heapq\n",
    "\n",
    "calorie_packs = []\n",
    "current_sum = 0\n",
    "\n",
    "with open('input_01.txt') as input_file:\n",
    "  for line in input_file:\n",
    "    if line.strip() == '':\n",
    "      heapq.heappush(calorie_packs, -current_sum)\n",
    "      current_sum = 0\n",
    "    else:\n",
    "      current_sum += int(line)\n",
    "print(-calorie_packs[0])"
   ]
  },
  {
   "cell_type": "code",
   "execution_count": 6,
   "metadata": {},
   "outputs": [
    {
     "name": "stdout",
     "output_type": "stream",
     "text": [
      "213958\n"
     ]
    }
   ],
   "source": [
    "answer = 0\n",
    "for i in range(3):\n",
    "  answer += -heapq.heappop(calorie_packs)\n",
    "  \n",
    "print(answer)"
   ]
  }
 ],
 "metadata": {
  "kernelspec": {
   "display_name": "Python 3.10.8 64-bit",
   "language": "python",
   "name": "python3"
  },
  "language_info": {
   "codemirror_mode": {
    "name": "ipython",
    "version": 3
   },
   "file_extension": ".py",
   "mimetype": "text/x-python",
   "name": "python",
   "nbconvert_exporter": "python",
   "pygments_lexer": "ipython3",
   "version": "3.10.8"
  },
  "orig_nbformat": 4,
  "vscode": {
   "interpreter": {
    "hash": "369f2c481f4da34e4445cda3fffd2e751bd1c4d706f27375911949ba6bb62e1c"
   }
  }
 },
 "nbformat": 4,
 "nbformat_minor": 2
}
