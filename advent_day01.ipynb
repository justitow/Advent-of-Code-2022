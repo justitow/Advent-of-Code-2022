{
 "cells": [
  {
   "cell_type": "code",
   "execution_count": 12,
   "metadata": {},
   "outputs": [
    {
     "name": "stdout",
     "output_type": "stream",
     "text": [
      "73211\n"
     ]
    }
   ],
   "source": [
    "import heapq\n",
    "\n",
    "calorie_packs = []\n",
    "current_sum = 0\n",
    "\n",
    "with open('input_01_01.txt') as input_file:\n",
    "  for line in input_file:\n",
    "    if line.strip() == '':\n",
    "      heapq.heappush(calorie_packs, -current_sum)\n",
    "      current_sum = 0\n",
    "    else:\n",
    "      current_sum += int(line)\n",
    "print(-calorie_packs[0])"
   ]
  },
  {
   "cell_type": "code",
   "execution_count": 13,
   "metadata": {},
   "outputs": [
    {
     "name": "stdout",
     "output_type": "stream",
     "text": [
      "213958\n"
     ]
    }
   ],
   "source": [
    "answer = 0\n",
    "for i in range(3):\n",
    "  answer += -heapq.heappop(calorie_packs)\n",
    "  \n",
    "print(answer)"
   ]
  }
 ],
 "metadata": {
  "kernelspec": {
   "display_name": "Python 3.9.13 64-bit (microsoft store)",
   "language": "python",
   "name": "python3"
  },
  "language_info": {
   "codemirror_mode": {
    "name": "ipython",
    "version": 3
   },
   "file_extension": ".py",
   "mimetype": "text/x-python",
   "name": "python",
   "nbconvert_exporter": "python",
   "pygments_lexer": "ipython3",
   "version": "3.9.13"
  },
  "orig_nbformat": 4,
  "vscode": {
   "interpreter": {
    "hash": "4733f1e2fec4da2b24c42b1d7e5dbec68ebf77764dd84a05f3817577f7b97b24"
   }
  }
 },
 "nbformat": 4,
 "nbformat_minor": 2
}
