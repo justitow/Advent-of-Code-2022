{
 "cells": [
  {
   "cell_type": "code",
   "execution_count": 3,
   "metadata": {},
   "outputs": [],
   "source": [
    "with open('input_07.txt') as input_file:\n",
    "  lines = [line.strip() for line in input_file.readlines()]"
   ]
  },
  {
   "cell_type": "code",
   "execution_count": 4,
   "metadata": {},
   "outputs": [],
   "source": [
    "root = {}\n",
    "root['/'] = {'..': root}\n",
    "curr_dir = root['/']\n",
    "for line in lines:\n",
    "  line = line.split(' ')\n",
    "  if line[0] == '$': # then command\n",
    "    if line[1] == 'cd':\n",
    "      if line[2] == '/':\n",
    "        curr_dir = root['/']\n",
    "      else:\n",
    "        curr_dir = curr_dir[line[2]]\n",
    "  else:\n",
    "    if line[0] == 'dir':\n",
    "      curr_dir[line[1]] = {'..': curr_dir}\n",
    "    else:\n",
    "      curr_dir[line[1]] = int(line[0])\n"
   ]
  },
  {
   "cell_type": "code",
   "execution_count": 63,
   "metadata": {},
   "outputs": [
    {
     "name": "stdout",
     "output_type": "stream",
     "text": [
      "1915606\n"
     ]
    }
   ],
   "source": [
    "def dfs_node_sum(node, all_sums):\n",
    "  node_sum = 0\n",
    "  for thing in node:\n",
    "    if isinstance(node[thing], int):\n",
    "      node_sum += node[thing]\n",
    "    elif thing != '..':\n",
    "      thing_sum = dfs_node_sum(node[thing], all_sums)\n",
    "      node_sum += thing_sum\n",
    "      all_sums.append(thing_sum)\n",
    "  return node_sum\n",
    "\n",
    "all_sums = []\n",
    "all_sums.append(dfs_node_sum(root['/'], all_sums))\n",
    "part_one_restriction = [x for x in all_sums if x < 100000]\n",
    "\n",
    "print(sum(part_one_restriction))\n"
   ]
  },
  {
   "cell_type": "code",
   "execution_count": 67,
   "metadata": {},
   "outputs": [
    {
     "name": "stdout",
     "output_type": "stream",
     "text": [
      "5025657\n"
     ]
    }
   ],
   "source": [
    "all_sums.sort(reverse=True)\n",
    "total = 70000000\n",
    "desired = 30000000\n",
    "current = all_sums[0]\n",
    "need_to_free = desired - (total - current)\n",
    "\n",
    "i = 0\n",
    "while all_sums[i] > need_to_free:\n",
    "  i += 1\n",
    "print(all_sums[i-1])\n"
   ]
  }
 ],
 "metadata": {
  "kernelspec": {
   "display_name": "Python 3.9.13 64-bit (microsoft store)",
   "language": "python",
   "name": "python3"
  },
  "language_info": {
   "codemirror_mode": {
    "name": "ipython",
    "version": 3
   },
   "file_extension": ".py",
   "mimetype": "text/x-python",
   "name": "python",
   "nbconvert_exporter": "python",
   "pygments_lexer": "ipython3",
   "version": "3.9.13"
  },
  "orig_nbformat": 4,
  "vscode": {
   "interpreter": {
    "hash": "4733f1e2fec4da2b24c42b1d7e5dbec68ebf77764dd84a05f3817577f7b97b24"
   }
  }
 },
 "nbformat": 4,
 "nbformat_minor": 2
}
