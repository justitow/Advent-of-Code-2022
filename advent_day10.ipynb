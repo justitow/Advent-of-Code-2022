{
 "cells": [
  {
   "cell_type": "code",
   "execution_count": 125,
   "metadata": {},
   "outputs": [],
   "source": [
    "from collections import deque\n",
    "with open('input_10.txt') as input_file:\n",
    "  instructions = [line.strip().split() for line in input_file]\n",
    "\n",
    "def populate_process_queue(process_queue):\n",
    "  for instruction in instructions:\n",
    "    if instruction[0] == 'addx':\n",
    "      process_queue.append(0)\n",
    "      process_queue.append(int(instruction[1]))\n",
    "    else:\n",
    "      process_queue.append(0)\n",
    "\n",
    "process_queue = deque()"
   ]
  },
  {
   "cell_type": "code",
   "execution_count": 126,
   "metadata": {},
   "outputs": [
    {
     "name": "stdout",
     "output_type": "stream",
     "text": [
      "13680\n"
     ]
    }
   ],
   "source": [
    "signal_strengths = []\n",
    "internal_clock = 0\n",
    "internal_reg = 1\n",
    "populate_process_queue(process_queue)\n",
    "while process_queue:\n",
    "  # start of cycle\n",
    "  internal_clock += 1\n",
    "\n",
    "  # execution of cycle\n",
    "  if (internal_clock + 20) % 40 == 0:\n",
    "    signal_strengths.append(internal_clock*internal_reg)\n",
    "\n",
    "  # end of cycle  \n",
    "  internal_reg += process_queue.popleft()\n",
    "print(sum(signal_strengths))\n"
   ]
  },
  {
   "cell_type": "code",
   "execution_count": 127,
   "metadata": {},
   "outputs": [
    {
     "name": "stdout",
     "output_type": "stream",
     "text": [
      "\n",
      "###..####..##..###..#..#.###..####.###.#\n",
      "#..#....#.#..#.#..#.#.#..#..#.#....#..##\n",
      "#..#...#..#....#..#.##...#..#.###..###..\n",
      "###...#...#.##.###..#.#..###..#....#..#.\n",
      "#....#....#..#.#....#.#..#....#....#..##\n",
      "#....####..###.#....#..#.#....####.###..\n"
     ]
    }
   ],
   "source": [
    "internal_clock = 0\n",
    "internal_reg = 1\n",
    "populate_process_queue(process_queue)\n",
    "\n",
    "screen = ''\n",
    "while process_queue:\n",
    "  # start of cycle\n",
    "  internal_clock += 1\n",
    "\n",
    "  # execution of cycle\n",
    "  if (internal_clock%40 == 1):\n",
    "    screen += '\\n'\n",
    "  sprite_locations = [internal_reg, internal_reg+1, internal_reg + 2]\n",
    "  #print(sprite_locations)\n",
    "  if (internal_clock%40 in sprite_locations):\n",
    "    screen += ('#')\n",
    "  else:\n",
    "    screen += ('.')\n",
    "  # end of cycle  \n",
    "  internal_reg += process_queue.popleft()\n",
    "  \n",
    "print(screen)"
   ]
  },
  {
   "cell_type": "code",
   "execution_count": null,
   "metadata": {},
   "outputs": [],
   "source": []
  }
 ],
 "metadata": {
  "kernelspec": {
   "display_name": "Python 3",
   "language": "python",
   "name": "python3"
  },
  "language_info": {
   "codemirror_mode": {
    "name": "ipython",
    "version": 3
   },
   "file_extension": ".py",
   "mimetype": "text/x-python",
   "name": "python",
   "nbconvert_exporter": "python",
   "pygments_lexer": "ipython3",
   "version": "3.9.13"
  },
  "orig_nbformat": 4,
  "vscode": {
   "interpreter": {
    "hash": "4733f1e2fec4da2b24c42b1d7e5dbec68ebf77764dd84a05f3817577f7b97b24"
   }
  }
 },
 "nbformat": 4,
 "nbformat_minor": 2
}
