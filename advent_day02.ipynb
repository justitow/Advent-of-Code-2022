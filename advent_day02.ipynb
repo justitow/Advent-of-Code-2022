{
 "cells": [
  {
   "cell_type": "code",
   "execution_count": 7,
   "metadata": {},
   "outputs": [],
   "source": [
    "\n",
    "move_code = {'A': 'Rock', 'B': 'Paper', 'C': 'Scissors', 'X': 'Rock', 'Y': 'Paper', 'Z': 'Scissors'}\n",
    "\n",
    "shape_score = {'Rock': 1, 'Paper': 2, 'Scissors': 3}\n",
    "\n",
    "winning_move = {'Rock': 'Paper', 'Paper': 'Scissors', 'Scissors': 'Rock'}\n",
    "\n",
    "win_point = 6\n",
    "draw_point = 3\n",
    "loss_point = 0"
   ]
  },
  {
   "cell_type": "code",
   "execution_count": 8,
   "metadata": {},
   "outputs": [
    {
     "name": "stdout",
     "output_type": "stream",
     "text": [
      "11841\n"
     ]
    }
   ],
   "source": [
    "your_score = 0\n",
    "their_score = 0\n",
    "\n",
    "with open('input_02.txt') as input_file:\n",
    "  for line in input_file:\n",
    "    \n",
    "\n",
    "    their_code, your_code = line.strip().split(' ')\n",
    "\n",
    "    their_move, your_move = move_code[their_code], move_code[your_code]\n",
    "\n",
    "    your_score_round = shape_score[your_move]\n",
    "    their_score_round = shape_score[their_move]\n",
    "\n",
    "    if your_move == their_move:\n",
    "      your_score_round += draw_point\n",
    "      their_score_round += draw_point\n",
    "    elif winning_move[their_move] == your_move:\n",
    "      your_score_round += win_point\n",
    "      their_score_round += loss_point\n",
    "    else:\n",
    "      their_score_round += win_point\n",
    "    \n",
    "    your_score += your_score_round\n",
    "    their_score += their_score_round\n",
    "print(your_score)\n"
   ]
  },
  {
   "cell_type": "code",
   "execution_count": 10,
   "metadata": {},
   "outputs": [
    {
     "name": "stdout",
     "output_type": "stream",
     "text": [
      "13022\n"
     ]
    }
   ],
   "source": [
    "status_translation = {'X': 'LOSE', 'Y': 'DRAW', 'Z': 'WIN'}\n",
    "losing_move = {'Paper': 'Rock', 'Scissors': 'Paper', 'Rock': 'Scissors'}\n",
    "\n",
    "your_score = 0\n",
    "with open('input_02.txt') as input_file:\n",
    "  for line in input_file:\n",
    "    \n",
    "    their_code, match_status = line.strip().split(' ')\n",
    "    their_move = move_code[their_code]\n",
    "\n",
    "    if status_translation[match_status] == 'WIN':\n",
    "      your_score += win_point + shape_score[winning_move[their_move]]\n",
    "    elif status_translation[match_status] == 'DRAW':\n",
    "      your_score += draw_point + shape_score[their_move]\n",
    "    else:\n",
    "      your_score += shape_score[losing_move[their_move]]\n",
    "print(your_score)"
   ]
  },
  {
   "cell_type": "code",
   "execution_count": null,
   "metadata": {},
   "outputs": [],
   "source": []
  }
 ],
 "metadata": {
  "kernelspec": {
   "display_name": "Python 3.10.8 64-bit",
   "language": "python",
   "name": "python3"
  },
  "language_info": {
   "codemirror_mode": {
    "name": "ipython",
    "version": 3
   },
   "file_extension": ".py",
   "mimetype": "text/x-python",
   "name": "python",
   "nbconvert_exporter": "python",
   "pygments_lexer": "ipython3",
   "version": "3.10.8"
  },
  "orig_nbformat": 4,
  "vscode": {
   "interpreter": {
    "hash": "369f2c481f4da34e4445cda3fffd2e751bd1c4d706f27375911949ba6bb62e1c"
   }
  }
 },
 "nbformat": 4,
 "nbformat_minor": 2
}
