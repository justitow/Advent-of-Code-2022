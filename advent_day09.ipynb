{
 "cells": [
  {
   "cell_type": "code",
   "execution_count": 79,
   "metadata": {},
   "outputs": [],
   "source": [
    "with open('input_09.txt') as input_file:\n",
    "  movements = [x.strip().split(' ') for x in input_file]"
   ]
  },
  {
   "cell_type": "code",
   "execution_count": 80,
   "metadata": {},
   "outputs": [
    {
     "name": "stdout",
     "output_type": "stream",
     "text": [
      "2445\n"
     ]
    }
   ],
   "source": [
    "\n",
    "def all_knots(position_h, position_t):\n",
    "  move_0, move_1 = 0, 0\n",
    "\n",
    "  delta_0 = abs(position_h[0] - position_t[0])\n",
    "  delta_1 = abs(position_h[1] - position_t[1])\n",
    "  if delta_0 > 1 or (delta_0 > 0 and delta_1 > 1):\n",
    "    move_0 = position_h[0] - position_t[0]\n",
    "    move_0 = abs(move_0)//move_0\n",
    "  if delta_1 > 1 or (delta_1 > 0 and delta_0 > 1):\n",
    "    move_1 = position_h[1] - position_t[1]\n",
    "    move_1 = abs(move_1)//move_1\n",
    "  position_t[0] = position_t[0] + move_0\n",
    "  position_t[1] = position_t[1] + move_1\n",
    "  \n",
    "move_codes = {'R': [0, 1], 'L': [0, -1], 'U': [-1, 0], 'D': [1, 0]}\n",
    "\n",
    "position_h = [0,0]\n",
    "position_t = [0,0]\n",
    "\n",
    "positions = [[0,0] for i in range(10)]\n",
    "\n",
    "tail_visited = set()\n",
    "tail_visited.add((0,0))\n",
    "\n",
    "for movement in movements:\n",
    "  direction = move_codes[movement[0]]\n",
    "  for _ in range(int(movement[1])):\n",
    "\n",
    "    positions[0][0] = positions[0][0] + direction[0]\n",
    "    positions[0][1] = positions[0][1] + direction[1]\n",
    "\n",
    "    for i in range(len(positions)-1):\n",
    "      all_knots(positions[i], positions[i+1])\n",
    "    tail_visited.add((positions[-1][0], positions[-1][1]))\n",
    "\n",
    "\n",
    "print(len(tail_visited))"
   ]
  }
 ],
 "metadata": {
  "kernelspec": {
   "display_name": "Python 3.9.13 64-bit (microsoft store)",
   "language": "python",
   "name": "python3"
  },
  "language_info": {
   "codemirror_mode": {
    "name": "ipython",
    "version": 3
   },
   "file_extension": ".py",
   "mimetype": "text/x-python",
   "name": "python",
   "nbconvert_exporter": "python",
   "pygments_lexer": "ipython3",
   "version": "3.9.13"
  },
  "orig_nbformat": 4,
  "vscode": {
   "interpreter": {
    "hash": "4733f1e2fec4da2b24c42b1d7e5dbec68ebf77764dd84a05f3817577f7b97b24"
   }
  }
 },
 "nbformat": 4,
 "nbformat_minor": 2
}
