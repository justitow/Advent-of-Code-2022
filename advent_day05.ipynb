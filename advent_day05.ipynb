{
 "cells": [
  {
   "cell_type": "code",
   "execution_count": 103,
   "metadata": {},
   "outputs": [],
   "source": [
    "from collections import deque, defaultdict\n",
    "\n",
    "BOX_DIAGRAM_END = 9\n",
    "INSTRUCTION_START = 10\n",
    "\n",
    "with open('input_05.txt') as input_file:\n",
    "  full_input = input_file.readlines()\n",
    "  boxes = [line[:-1] for line in full_input[:BOX_DIAGRAM_END]]\n",
    "  instructions = [[int(line[:-1].split(' ')[1]), line[:-1].split(' ')[3], line[:-1].split(' ')[5]] for line in full_input[INSTRUCTION_START:]]\n",
    "  boxyard = defaultdict(deque)\n",
    "  for line in boxes[:-1]:\n",
    "    i = 1\n",
    "    for _ in range((len(line)+1)//4):\n",
    "      if line[i] != ' ':\n",
    "        boxyard[boxes[-1][i]].append(line[i])\n",
    "      i += 4\n",
    "#boxyard, instructions\n",
    "\n",
    "def print_ans():\n",
    "  ans = ''\n",
    "  for i in range(9):\n",
    "    ans += boxyard[str(i+1)][0]\n",
    "  print(ans)\n"
   ]
  },
  {
   "cell_type": "code",
   "execution_count": 102,
   "metadata": {},
   "outputs": [
    {
     "name": "stdout",
     "output_type": "stream",
     "text": [
      "TGWSMRBPN\n"
     ]
    }
   ],
   "source": [
    "#movement\n",
    "\n",
    "for line in instructions:\n",
    "  crates, start, end = line\n",
    "  for _ in range(crates):\n",
    "    boxyard[end].appendleft(boxyard[start].popleft())\n",
    "  \n",
    "print_ans()"
   ]
  },
  {
   "cell_type": "code",
   "execution_count": 104,
   "metadata": {},
   "outputs": [
    {
     "name": "stdout",
     "output_type": "stream",
     "text": [
      "TZLTLWRNF\n"
     ]
    }
   ],
   "source": [
    "#movement\n",
    "\n",
    "holder = deque()\n",
    "for line in instructions:\n",
    "  crates, start, end = line\n",
    "  for _ in range(crates):\n",
    "    holder.append(boxyard[start].popleft())\n",
    "  while holder:\n",
    "    boxyard[end].appendleft(holder.pop())\n",
    "print_ans()\n"
   ]
  }
 ],
 "metadata": {
  "kernelspec": {
   "display_name": "Python 3.10.8 64-bit",
   "language": "python",
   "name": "python3"
  },
  "language_info": {
   "codemirror_mode": {
    "name": "ipython",
    "version": 3
   },
   "file_extension": ".py",
   "mimetype": "text/x-python",
   "name": "python",
   "nbconvert_exporter": "python",
   "pygments_lexer": "ipython3",
   "version": "3.10.8"
  },
  "orig_nbformat": 4,
  "vscode": {
   "interpreter": {
    "hash": "369f2c481f4da34e4445cda3fffd2e751bd1c4d706f27375911949ba6bb62e1c"
   }
  }
 },
 "nbformat": 4,
 "nbformat_minor": 2
}
