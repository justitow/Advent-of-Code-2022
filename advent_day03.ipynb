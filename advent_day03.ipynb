{
 "cells": [
  {
   "cell_type": "code",
   "execution_count": 44,
   "metadata": {},
   "outputs": [],
   "source": [
    "with open('input_03.txt') as file_input:\n",
    "  packs = [(set(line.strip()[0: len(line.strip())//2]), set(line.strip()[len(line.strip())//2:]))  for line in file_input]"
   ]
  },
  {
   "cell_type": "code",
   "execution_count": 40,
   "metadata": {},
   "outputs": [
    {
     "name": "stdout",
     "output_type": "stream",
     "text": [
      "7701\n"
     ]
    }
   ],
   "source": [
    "priority_sum = 0\n",
    "\n",
    "for pack in packs:\n",
    "  for item in pack[0]:\n",
    "    if item in pack[1]:\n",
    "        priority_sum += ord(item)-96 if ord(item) >= 97 else ord(item)-38\n",
    "        break\n",
    "print(priority_sum)"
   ]
  },
  {
   "cell_type": "code",
   "execution_count": 45,
   "metadata": {},
   "outputs": [],
   "source": [
    "with open('input_03.txt') as file_input:\n",
    "  packs_no_pockets = [set(line.strip()) for line in file_input]"
   ]
  },
  {
   "cell_type": "code",
   "execution_count": 46,
   "metadata": {},
   "outputs": [
    {
     "name": "stdout",
     "output_type": "stream",
     "text": [
      "2644\n"
     ]
    }
   ],
   "source": [
    "priority_sum = 0\n",
    "\n",
    "for i in range(len(packs_no_pockets)//3):\n",
    "  for item in packs_no_pockets[i*3]:\n",
    "    if item in packs_no_pockets[i*3 + 1] and item in packs_no_pockets[i*3 + 2]:\n",
    "      priority_sum += ord(item)-96 if ord(item) >= 97 else ord(item)-38\n",
    "      break\n",
    "print(priority_sum)"
   ]
  }
 ],
 "metadata": {
  "kernelspec": {
   "display_name": "Python 3.9.13 64-bit (microsoft store)",
   "language": "python",
   "name": "python3"
  },
  "language_info": {
   "codemirror_mode": {
    "name": "ipython",
    "version": 3
   },
   "file_extension": ".py",
   "mimetype": "text/x-python",
   "name": "python",
   "nbconvert_exporter": "python",
   "pygments_lexer": "ipython3",
   "version": "3.9.13"
  },
  "orig_nbformat": 4,
  "vscode": {
   "interpreter": {
    "hash": "4733f1e2fec4da2b24c42b1d7e5dbec68ebf77764dd84a05f3817577f7b97b24"
   }
  }
 },
 "nbformat": 4,
 "nbformat_minor": 2
}
