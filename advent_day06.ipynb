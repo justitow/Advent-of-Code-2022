{
 "cells": [
  {
   "cell_type": "code",
   "execution_count": 4,
   "metadata": {},
   "outputs": [
    {
     "data": {
      "text/plain": [
       "(1134, 2263)"
      ]
     },
     "execution_count": 4,
     "metadata": {},
     "output_type": "execute_result"
    }
   ],
   "source": [
    "with open('input_06.txt') as input_file:\n",
    "  data_stream = input_file.readline()\n",
    "  \n",
    "def after_indicator(data_stream, indicator_length):\n",
    "  for i in range(len(data_stream) - indicator_length - 1):\n",
    "    if len(set(data_stream[i:i+indicator_length])) == indicator_length:\n",
    "      return i + indicator_length\n",
    "\n",
    "after_indicator(data_stream, 4), after_indicator(data_stream, 14)"
   ]
  }
 ],
 "metadata": {
  "kernelspec": {
   "display_name": "Python 3.10.8 64-bit",
   "language": "python",
   "name": "python3"
  },
  "language_info": {
   "codemirror_mode": {
    "name": "ipython",
    "version": 3
   },
   "file_extension": ".py",
   "mimetype": "text/x-python",
   "name": "python",
   "nbconvert_exporter": "python",
   "pygments_lexer": "ipython3",
   "version": "3.10.8"
  },
  "orig_nbformat": 4,
  "vscode": {
   "interpreter": {
    "hash": "369f2c481f4da34e4445cda3fffd2e751bd1c4d706f27375911949ba6bb62e1c"
   }
  }
 },
 "nbformat": 4,
 "nbformat_minor": 2
}
