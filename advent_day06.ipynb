{
 "cells": [
  {
   "cell_type": "code",
   "execution_count": 67,
   "metadata": {},
   "outputs": [
    {
     "name": "stdout",
     "output_type": "stream",
     "text": [
      "part 1 1134\n",
      "part 2 2263\n"
     ]
    }
   ],
   "source": [
    "with open('input_06.txt') as input_file:\n",
    "  data_stream = input_file.readline()\n",
    "\n",
    "for i in range(len(data_stream) - 3):\n",
    "  if len(set(data_stream[i:i+4])) == 4:\n",
    "    print('part 1', i + 4)\n",
    "    break\n",
    "\n",
    "for i in range(len(data_stream) - 13):\n",
    "  if len(set(data_stream[i:i+14])) == 14:\n",
    "    print('part 2', i + 14)\n",
    "    break\n"
   ]
  }
 ],
 "metadata": {
  "kernelspec": {
   "display_name": "Python 3.10.8 64-bit",
   "language": "python",
   "name": "python3"
  },
  "language_info": {
   "codemirror_mode": {
    "name": "ipython",
    "version": 3
   },
   "file_extension": ".py",
   "mimetype": "text/x-python",
   "name": "python",
   "nbconvert_exporter": "python",
   "pygments_lexer": "ipython3",
   "version": "3.10.8"
  },
  "orig_nbformat": 4,
  "vscode": {
   "interpreter": {
    "hash": "369f2c481f4da34e4445cda3fffd2e751bd1c4d706f27375911949ba6bb62e1c"
   }
  }
 },
 "nbformat": 4,
 "nbformat_minor": 2
}
