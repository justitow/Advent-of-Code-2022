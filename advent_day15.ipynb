{
 "cells": [
  {
   "cell_type": "code",
   "execution_count": 107,
   "metadata": {},
   "outputs": [],
   "source": [
    "import re\n",
    "\n",
    "with open('input_15.txt') as input_file:\n",
    "  input = [[x[:2],x[2:]] for x in [[int(x) for x in re.findall('[\\-0-9]+', line)] for line in input_file]]\n",
    "\n",
    "def manhattan(p1, p2):\n",
    "  return abs(p1[0] - p2[0]) + abs(p1[1] - p2[1])\n",
    "\n",
    "\n"
   ]
  },
  {
   "cell_type": "code",
   "execution_count": 108,
   "metadata": {},
   "outputs": [
    {
     "data": {
      "text/plain": [
       "\"\\ncanvas = {}\\n\\nfor input_set in input:\\n  sensor, beacon = input_set[:2], input_set[2:]\\n  canvas[tuple(sensor)] = 'S'\\n  canvas[tuple(beacon)] = 'B'\\n  print(sensor, beacon)\\n  dist = manhattan(sensor, beacon)\\n  dist_counter = dist\\n\\n  while dist_counter >= 0:\\n    for i in range(0, dist_counter+1):\\n      deltas = [(1, 1), (1, -1), (-1, 1), (-1, -1)]\\n      for delta in deltas:\\n        if (sensor[0] + delta[0]*i, sensor[1] + delta[1]*(dist-dist_counter)) not in canvas:\\n          canvas[(sensor[0] + delta[0]*i, sensor[1] + delta[1]*(dist-dist_counter))] = '#'\\n    dist_counter -= 1\\ndistinct_x = [key for key in canvas.keys() if (key[1] == 11 and canvas[key] == '#')]\\nprint(len(distinct_x))\\n\""
      ]
     },
     "execution_count": 108,
     "metadata": {},
     "output_type": "execute_result"
    }
   ],
   "source": [
    "'''\n",
    "canvas = {}\n",
    "\n",
    "for input_set in input:\n",
    "  sensor, beacon = input_set[:2], input_set[2:]\n",
    "  canvas[tuple(sensor)] = 'S'\n",
    "  canvas[tuple(beacon)] = 'B'\n",
    "  print(sensor, beacon)\n",
    "  dist = manhattan(sensor, beacon)\n",
    "  dist_counter = dist\n",
    "\n",
    "  while dist_counter >= 0:\n",
    "    for i in range(0, dist_counter+1):\n",
    "      deltas = [(1, 1), (1, -1), (-1, 1), (-1, -1)]\n",
    "      for delta in deltas:\n",
    "        if (sensor[0] + delta[0]*i, sensor[1] + delta[1]*(dist-dist_counter)) not in canvas:\n",
    "          canvas[(sensor[0] + delta[0]*i, sensor[1] + delta[1]*(dist-dist_counter))] = '#'\n",
    "    dist_counter -= 1\n",
    "distinct_x = [key for key in canvas.keys() if (key[1] == 11 and canvas[key] == '#')]\n",
    "print(len(distinct_x))\n",
    "'''"
   ]
  },
  {
   "cell_type": "code",
   "execution_count": 109,
   "metadata": {},
   "outputs": [
    {
     "name": "stdout",
     "output_type": "stream",
     "text": [
      "4961647\n"
     ]
    }
   ],
   "source": [
    "target_line = 2000000\n",
    "canvas = {}\n",
    "\n",
    "def draw_point(point):\n",
    "  if tuple(point) not in canvas:\n",
    "    canvas[point] = '#'\n",
    "\n",
    "for input_set in input:\n",
    "  dist = manhattan(input_set[0], input_set[1])\n",
    "  sensor = input_set[0]\n",
    "  canvas[tuple(input_set[0])] = 'S'\n",
    "  canvas[tuple(input_set[1])] = 'B'\n",
    "  if abs(sensor[1] - target_line) <= dist:\n",
    "    draw_point((sensor[0], target_line))\n",
    "    remaining = dist - abs(sensor[1]-target_line)\n",
    "    for i in range(1, remaining + 1):\n",
    "      draw_point((sensor[0] + i, target_line))\n",
    "      draw_point((sensor[0] - i, target_line))\n",
    "\n",
    "\n",
    "print(len([x for x in canvas if canvas[x] == '#' ]))"
   ]
  },
  {
   "cell_type": "code",
   "execution_count": 110,
   "metadata": {},
   "outputs": [
    {
     "ename": "KeyboardInterrupt",
     "evalue": "",
     "output_type": "error",
     "traceback": [
      "\u001b[1;31m---------------------------------------------------------------------------\u001b[0m",
      "\u001b[1;31mKeyboardInterrupt\u001b[0m                         Traceback (most recent call last)",
      "\u001b[1;32mc:\\Users\\Justin\\Developer\\Advent of Code\\advent_day15.ipynb Cell 4\u001b[0m in \u001b[0;36m<module>\u001b[1;34m\u001b[0m\n\u001b[0;32m     <a href='vscode-notebook-cell:/c%3A/Users/Justin/Developer/Advent%20of%20Code/advent_day15.ipynb#X11sZmlsZQ%3D%3D?line=15'>16</a>\u001b[0m     \u001b[39mfor\u001b[39;00m i \u001b[39min\u001b[39;00m \u001b[39mrange\u001b[39m(\u001b[39m1\u001b[39m, remaining \u001b[39m+\u001b[39m \u001b[39m1\u001b[39m):\n\u001b[0;32m     <a href='vscode-notebook-cell:/c%3A/Users/Justin/Developer/Advent%20of%20Code/advent_day15.ipynb#X11sZmlsZQ%3D%3D?line=16'>17</a>\u001b[0m       draw_point((sensor[\u001b[39m0\u001b[39m] \u001b[39m+\u001b[39m i, target_line))\n\u001b[1;32m---> <a href='vscode-notebook-cell:/c%3A/Users/Justin/Developer/Advent%20of%20Code/advent_day15.ipynb#X11sZmlsZQ%3D%3D?line=17'>18</a>\u001b[0m       draw_point((sensor[\u001b[39m0\u001b[39m] \u001b[39m-\u001b[39m i, target_line))\n\u001b[0;32m     <a href='vscode-notebook-cell:/c%3A/Users/Justin/Developer/Advent%20of%20Code/advent_day15.ipynb#X11sZmlsZQ%3D%3D?line=20'>21</a>\u001b[0m \u001b[39mprint\u001b[39m(\u001b[39mlen\u001b[39m([x \u001b[39mfor\u001b[39;00m x \u001b[39min\u001b[39;00m canvas \u001b[39mif\u001b[39;00m canvas[x] \u001b[39m==\u001b[39m \u001b[39m'\u001b[39m\u001b[39m#\u001b[39m\u001b[39m'\u001b[39m ]))\n",
      "\u001b[1;31mKeyboardInterrupt\u001b[0m: "
     ]
    }
   ],
   "source": [
    "target_line = 2000000\n",
    "canvas = {}\n",
    "\n",
    "def draw_point(point):\n",
    "  if tuple(point) not in canvas:\n",
    "    canvas[point] = '#'\n",
    "\n",
    "for input_set in input:\n",
    "  dist = manhattan(input_set[0], input_set[1])\n",
    "  sensor = input_set[0]\n",
    "  canvas[tuple(input_set[0])] = 'S'\n",
    "  canvas[tuple(input_set[1])] = 'B'\n",
    "  if abs(sensor[1] - target_line) <= dist:\n",
    "    draw_point((sensor[0], target_line))\n",
    "    remaining = dist - abs(sensor[1]-target_line)\n",
    "    for i in range(1, remaining + 1):\n",
    "      draw_point((sensor[0] + i, target_line))\n",
    "      draw_point((sensor[0] - i, target_line))\n",
    "\n",
    "\n",
    "print(len([x for x in canvas if canvas[x] == '#' ]))"
   ]
  },
  {
   "cell_type": "code",
   "execution_count": null,
   "metadata": {},
   "outputs": [
    {
     "ename": "KeyboardInterrupt",
     "evalue": "",
     "output_type": "error",
     "traceback": [
      "\u001b[1;31m---------------------------------------------------------------------------\u001b[0m",
      "\u001b[1;31mKeyboardInterrupt\u001b[0m                         Traceback (most recent call last)",
      "\u001b[1;32mc:\\Users\\Justin\\Developer\\Advent of Code\\advent_day15.ipynb Cell 5\u001b[0m in \u001b[0;36m<module>\u001b[1;34m\u001b[0m\n\u001b[0;32m     <a href='vscode-notebook-cell:/c%3A/Users/Justin/Developer/Advent%20of%20Code/advent_day15.ipynb#X12sZmlsZQ%3D%3D?line=17'>18</a>\u001b[0m \u001b[39mfor\u001b[39;00m i \u001b[39min\u001b[39;00m \u001b[39mrange\u001b[39m(\u001b[39m1\u001b[39m, remaining \u001b[39m+\u001b[39m \u001b[39m1\u001b[39m):\n\u001b[0;32m     <a href='vscode-notebook-cell:/c%3A/Users/Justin/Developer/Advent%20of%20Code/advent_day15.ipynb#X12sZmlsZQ%3D%3D?line=18'>19</a>\u001b[0m   \u001b[39mif\u001b[39;00m \u001b[39m0\u001b[39m \u001b[39m<\u001b[39m\u001b[39m=\u001b[39m sensor[\u001b[39m0\u001b[39m] \u001b[39m+\u001b[39m i \u001b[39m<\u001b[39m\u001b[39m=\u001b[39m LIMIT:\n\u001b[1;32m---> <a href='vscode-notebook-cell:/c%3A/Users/Justin/Developer/Advent%20of%20Code/advent_day15.ipynb#X12sZmlsZQ%3D%3D?line=19'>20</a>\u001b[0m     draw_point((sensor[\u001b[39m0\u001b[39;49m] \u001b[39m+\u001b[39;49m i, test_y))\n\u001b[0;32m     <a href='vscode-notebook-cell:/c%3A/Users/Justin/Developer/Advent%20of%20Code/advent_day15.ipynb#X12sZmlsZQ%3D%3D?line=20'>21</a>\u001b[0m   \u001b[39mif\u001b[39;00m \u001b[39m0\u001b[39m \u001b[39m<\u001b[39m\u001b[39m=\u001b[39m sensor[\u001b[39m1\u001b[39m] \u001b[39m-\u001b[39m i \u001b[39m<\u001b[39m\u001b[39m=\u001b[39m LIMIT:\n\u001b[0;32m     <a href='vscode-notebook-cell:/c%3A/Users/Justin/Developer/Advent%20of%20Code/advent_day15.ipynb#X12sZmlsZQ%3D%3D?line=21'>22</a>\u001b[0m     draw_point((sensor[\u001b[39m0\u001b[39m] \u001b[39m-\u001b[39m i, test_y))\n",
      "\u001b[1;32mc:\\Users\\Justin\\Developer\\Advent of Code\\advent_day15.ipynb Cell 5\u001b[0m in \u001b[0;36mdraw_point\u001b[1;34m(point)\u001b[0m\n\u001b[0;32m      <a href='vscode-notebook-cell:/c%3A/Users/Justin/Developer/Advent%20of%20Code/advent_day15.ipynb#X12sZmlsZQ%3D%3D?line=4'>5</a>\u001b[0m \u001b[39mdef\u001b[39;00m \u001b[39mdraw_point\u001b[39m(point):\n\u001b[1;32m----> <a href='vscode-notebook-cell:/c%3A/Users/Justin/Developer/Advent%20of%20Code/advent_day15.ipynb#X12sZmlsZQ%3D%3D?line=5'>6</a>\u001b[0m   \u001b[39mif\u001b[39;00m \u001b[39mtuple\u001b[39;49m(point) \u001b[39mnot\u001b[39;00m \u001b[39min\u001b[39;00m canvas:\n\u001b[0;32m      <a href='vscode-notebook-cell:/c%3A/Users/Justin/Developer/Advent%20of%20Code/advent_day15.ipynb#X12sZmlsZQ%3D%3D?line=6'>7</a>\u001b[0m     canvas[point] \u001b[39m=\u001b[39m \u001b[39m'\u001b[39m\u001b[39m#\u001b[39m\u001b[39m'\u001b[39m\n",
      "\u001b[1;31mKeyboardInterrupt\u001b[0m: "
     ]
    }
   ],
   "source": [
    "LIMIT = 4000000\n",
    "\n",
    "canvas = {}\n",
    "\n",
    "def draw_point(point):\n",
    "  if tuple(point) not in canvas:\n",
    "    canvas[point] = '#'\n",
    "\n",
    "for test_y in range(LIMIT):\n",
    "  for input_set in input:\n",
    "    dist = manhattan(input_set[0], input_set[1])\n",
    "    sensor = input_set[0]\n",
    "    canvas[tuple(input_set[0])] = 'S'\n",
    "    canvas[tuple(input_set[1])] = 'B'\n",
    "    if abs(sensor[1] - test_y) <= dist:\n",
    "      draw_point((sensor[0], test_y))\n",
    "      remaining = dist - abs(sensor[1]-test_y)\n",
    "      for i in range(1, remaining + 1):\n",
    "        if 0 <= sensor[0] + i <= LIMIT:\n",
    "          draw_point((sensor[0] + i, test_y))\n",
    "        if 0 <= sensor[1] - i <= LIMIT:\n",
    "          draw_point((sensor[0] - i, test_y))\n",
    "        if not ((0 <= sensor[0] + i <= LIMIT) and (0 <= sensor[1] - i <= LIMIT)):\n",
    "          break\n",
    "\n",
    "print(len([x for x in canvas if canvas[x] == '#' ]))"
   ]
  },
  {
   "cell_type": "code",
   "execution_count": null,
   "metadata": {},
   "outputs": [
    {
     "name": "stdout",
     "output_type": "stream",
     "text": [
      "34 34\n"
     ]
    }
   ],
   "source": [
    "from collections import deque\n",
    "\n",
    "input_pairs = deque(input[1:])\n",
    "touching = [input[0]]\n",
    "\n",
    "while input_pairs:\n",
    "  input_pair = input_pairs.popleft()\n",
    "  input_dist = manhattan(input_pair[0], input_pair[1])\n",
    "  for shape in touching:\n",
    "    shape_dist = manhattan(shape[0], shape[1])\n",
    "    if manhattan(shape[0], input_pair[0]) <= shape_dist + input_dist:\n",
    "      touching.append(input_pair)\n",
    "      break\n",
    "  if input_pair not in touching:  \n",
    "    input_pairs.append(input_pair)\n",
    "print(len(touching), len(input))\n",
    "\n",
    "# this determined that all of the shapes are intersecting with eachother. So if there is a point on the outside of one of them that isn't inside any of the others, than it has to be our coordinate!"
   ]
  },
  {
   "cell_type": "code",
   "execution_count": 116,
   "metadata": {},
   "outputs": [
    {
     "name": "stdout",
     "output_type": "stream",
     "text": [
      "[3068581, 3017867]\n",
      "[3068581, 3017867]\n"
     ]
    }
   ],
   "source": [
    "def is_inside(point):\n",
    "  for input_set in input:\n",
    "    scanner, beacon = input_set\n",
    "    if manhattan(scanner, point) <= manhattan(scanner, beacon):\n",
    "      return True\n",
    "  return False\n",
    "\n",
    "for input_set in input:\n",
    "  scanner, beacon = input_set\n",
    "  dist = manhattan(scanner, beacon)\n",
    "  out_dist = dist + 1\n",
    "  x_width = 0\n",
    "  # outside_point = [scanner[0], scanner[1] + dist + 1]\n",
    "  while x_width <= out_dist:\n",
    "    test_points = [[scanner[0] + x_width, scanner[1] + (out_dist - x_width)],\n",
    "                   [scanner[0] + x_width, scanner[1] - (out_dist - x_width)],\n",
    "                   [scanner[0] - x_width, scanner[1] + (out_dist - x_width)],\n",
    "                   [scanner[0] - x_width, scanner[1] - (out_dist - x_width)]\n",
    "    ]\n",
    "    for point in test_points:\n",
    "      if 0 <= point[0] <= 4000000 and 0 <= point[1] <= 4000000:\n",
    "        if not is_inside(point):\n",
    "          print(point)\n",
    "    x_width += 1\n",
    "\n"
   ]
  },
  {
   "cell_type": "code",
   "execution_count": null,
   "metadata": {},
   "outputs": [],
   "source": []
  }
 ],
 "metadata": {
  "kernelspec": {
   "display_name": "Python 3",
   "language": "python",
   "name": "python3"
  },
  "language_info": {
   "codemirror_mode": {
    "name": "ipython",
    "version": 3
   },
   "file_extension": ".py",
   "mimetype": "text/x-python",
   "name": "python",
   "nbconvert_exporter": "python",
   "pygments_lexer": "ipython3",
   "version": "3.9.13"
  },
  "orig_nbformat": 4,
  "vscode": {
   "interpreter": {
    "hash": "4733f1e2fec4da2b24c42b1d7e5dbec68ebf77764dd84a05f3817577f7b97b24"
   }
  }
 },
 "nbformat": 4,
 "nbformat_minor": 2
}
