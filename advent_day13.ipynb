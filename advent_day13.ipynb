{
 "cells": [
  {
   "cell_type": "code",
   "execution_count": 71,
   "metadata": {},
   "outputs": [],
   "source": [
    "import ast\n",
    "from functools import cmp_to_key\n",
    "pairs = []\n",
    "with open('input_13.txt') as file_input:\n",
    "  for line in file_input:\n",
    "    first = ast.literal_eval(line.strip())\n",
    "    second = ast.literal_eval(file_input.readline().strip())\n",
    "    _ = file_input.readline()\n",
    "    pairs.append([first, second])\n",
    "\n",
    "\n",
    "def compare(left, right):\n",
    "  #print(left, right)\n",
    "  if isinstance(left, int) and isinstance(right, int):\n",
    "    if left == right:\n",
    "      return None\n",
    "    else:\n",
    "      return left < right\n",
    "\n",
    "  if isinstance(left, list) and isinstance(right, list):\n",
    "    for i in range(len(left)):\n",
    "      if i >= len(right):\n",
    "        return False\n",
    "      l_v_r = compare(left[i], right[i])\n",
    "      if l_v_r:\n",
    "        return True\n",
    "      if not l_v_r and l_v_r is not None:\n",
    "        return False\n",
    "    if len(left) < len(right):\n",
    "      return True\n",
    "    return None\n",
    "  if isinstance(left, int):\n",
    "    return compare([left], right)\n",
    "  if isinstance(right, int):\n",
    "    return compare(left, [right])\n",
    "\n",
    "def compare_wrap(left, right):\n",
    "  if compare(left, right):\n",
    "    return -1\n",
    "  else:\n",
    "    return 1\n"
   ]
  },
  {
   "cell_type": "code",
   "execution_count": 72,
   "metadata": {},
   "outputs": [
    {
     "data": {
      "text/plain": [
       "5330"
      ]
     },
     "execution_count": 72,
     "metadata": {},
     "output_type": "execute_result"
    }
   ],
   "source": [
    "\n",
    "total = 0\n",
    "for count, pair in enumerate(pairs):\n",
    "  if compare(pair[0], pair[1]):\n",
    "    total += count + 1\n",
    "total"
   ]
  },
  {
   "cell_type": "code",
   "execution_count": 73,
   "metadata": {},
   "outputs": [],
   "source": [
    "with open('input_13.txt') as file_input:\n",
    "  packets = [ast.literal_eval(packet.strip()) for packet in file_input.readlines() if packet.strip() != '']\n",
    "packets.append([[2]])\n",
    "packets.append([[6]])"
   ]
  },
  {
   "cell_type": "code",
   "execution_count": 76,
   "metadata": {},
   "outputs": [
    {
     "name": "stdout",
     "output_type": "stream",
     "text": [
      "27648\n"
     ]
    }
   ],
   "source": [
    "packets.sort(key=cmp_to_key(compare_wrap))\n",
    "first = packets.index([[2]])\n",
    "second = packets.index([[6]])\n",
    "print((first + 1)*(second + 1))"
   ]
  }
 ],
 "metadata": {
  "kernelspec": {
   "display_name": "Python 3",
   "language": "python",
   "name": "python3"
  },
  "language_info": {
   "codemirror_mode": {
    "name": "ipython",
    "version": 3
   },
   "file_extension": ".py",
   "mimetype": "text/x-python",
   "name": "python",
   "nbconvert_exporter": "python",
   "pygments_lexer": "ipython3",
   "version": "3.9.13"
  },
  "orig_nbformat": 4,
  "vscode": {
   "interpreter": {
    "hash": "4733f1e2fec4da2b24c42b1d7e5dbec68ebf77764dd84a05f3817577f7b97b24"
   }
  }
 },
 "nbformat": 4,
 "nbformat_minor": 2
}
